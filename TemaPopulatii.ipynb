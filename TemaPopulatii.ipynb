{
  "nbformat": 4,
  "nbformat_minor": 0,
  "metadata": {
    "colab": {
      "provenance": [],
      "authorship_tag": "ABX9TyMLqXYJIacJZgr04VMip5fj",
      "include_colab_link": true
    },
    "kernelspec": {
      "name": "python3",
      "display_name": "Python 3"
    },
    "language_info": {
      "name": "python"
    }
  },
  "cells": [
    {
      "cell_type": "markdown",
      "metadata": {
        "id": "view-in-github",
        "colab_type": "text"
      },
      "source": [
        "<a href=\"https://colab.research.google.com/github/dutzifon/Rusu_Daria_lab2/blob/master/TemaPopulatii.ipynb\" target=\"_parent\"><img src=\"https://colab.research.google.com/assets/colab-badge.svg\" alt=\"Open In Colab\"/></a>"
      ]
    },
    {
      "cell_type": "code",
      "source": [
        "import numpy as np  \n",
        "data = np.loadtxt('populatii.txt')\n",
        "data = data.astype('int32')\n",
        "an, iepure, linx, morcov = data.T \n",
        "print (data.T)"
      ],
      "metadata": {
        "id": "KNDwm6CqRf2Q",
        "colab": {
          "base_uri": "https://localhost:8080/"
        },
        "outputId": "5417f143-f906-4246-c11c-077e49b2b149"
      },
      "execution_count": 19,
      "outputs": [
        {
          "output_type": "stream",
          "name": "stdout",
          "text": [
            "[[ 1900  1901  1902  1903  1904  1905  1906  1907  1908  1909  1910  1911\n",
            "   1912  1913  1914  1915  1916  1917  1918  1919  1920]\n",
            " [30000 47200 70200 77400 36300 20600 18100 21400 22000 25400 27100 40300\n",
            "  57000 76600 52300 19500 11200  7600 14600 16200 24700]\n",
            " [ 4000  6100  9800 35200 59400 41700 19000 13000  8300  9100  7400  8000\n",
            "  12300 19500 45700 51100 29700 15800  9700 10100  8600]\n",
            " [48300 48200 41500 38200 40600 39800 38600 42300 44500 42100 46000 46800\n",
            "  43800 40900 39400 39000 36700 41800 43300 41300 47300]]\n"
          ]
        }
      ]
    },
    {
      "cell_type": "markdown",
      "source": [
        "a) Media si variatia standard pentru fiecare specie:"
      ],
      "metadata": {
        "id": "uTG44BvdRWkN"
      }
    },
    {
      "cell_type": "code",
      "source": [
        "iepuri = np.array ( data.T[1:2:])\n",
        "print (iepuri)\n",
        "media_iepuri = np.sum(iepuri) / 21\n",
        "print (float(media_iepuri))\n",
        "\n",
        "lincsi = np.array( data.T[2:3:])\n",
        "print (lincsi)\n",
        "media_lincsi = np.sum(lincsi) / 21\n",
        "print (float(media_lincsi))\n",
        "\n",
        "morcovi = np.array (data.T[3::])\n",
        "print (morcovi)\n",
        "media_morcovi = np.sum (morcovi) / 21\n",
        "print (float(media_morcovi))"
      ],
      "metadata": {
        "colab": {
          "base_uri": "https://localhost:8080/"
        },
        "id": "8NXLdC8NsVIa",
        "outputId": "356f6a5c-7098-42bf-af2e-df2378fb634e"
      },
      "execution_count": 104,
      "outputs": [
        {
          "output_type": "stream",
          "name": "stdout",
          "text": [
            "[[30000 47200 70200 77400 36300 20600 18100 21400 22000 25400 27100 40300\n",
            "  57000 76600 52300 19500 11200  7600 14600 16200 24700]]\n",
            "34080.95238095238\n",
            "[[ 4000  6100  9800 35200 59400 41700 19000 13000  8300  9100  7400  8000\n",
            "  12300 19500 45700 51100 29700 15800  9700 10100  8600]]\n",
            "20166.666666666668\n",
            "[[48300 48200 41500 38200 40600 39800 38600 42300 44500 42100 46000 46800\n",
            "  43800 40900 39400 39000 36700 41800 43300 41300 47300]]\n",
            "42400.0\n"
          ]
        }
      ]
    },
    {
      "cell_type": "code",
      "source": [
        "media_iepuri = np.sum(data.T[1,]) / 21\n",
        "print (float(media_iepuri))\n",
        "\n",
        "media_lincsi = np.sum(data.T[2,]) / 21\n",
        "print (float(media_lincsi))\n",
        "\n",
        "media_morcovi = np.sum (data.T[3, ]) / 21\n",
        "print (float(media_morcovi))"
      ],
      "metadata": {
        "id": "7F55TFoeVaZ9",
        "colab": {
          "base_uri": "https://localhost:8080/"
        },
        "outputId": "d408ae85-b321-41e1-c892-d177f4820a95"
      },
      "execution_count": 107,
      "outputs": [
        {
          "output_type": "stream",
          "name": "stdout",
          "text": [
            "34080.95238095238\n",
            "20166.666666666668\n",
            "42400.0\n"
          ]
        }
      ]
    },
    {
      "cell_type": "markdown",
      "source": [
        "b) Care specie are cea mai mare populatie?"
      ],
      "metadata": {
        "id": "oVQfUkj-r4xi"
      }
    },
    {
      "cell_type": "code",
      "source": [
        "max_iepuri = np.max (iepuri)\n",
        "print (max_iepuri)\n",
        "\n",
        "max_lincsi = np.max (lincsi)\n",
        "print (max_lincsi)\n",
        "\n",
        "max_morcovi = np.max (morcovi)\n",
        "print (max_morcovi)\n",
        "\n",
        "max = np.array ([max_iepuri, max_lincsi, max_morcovi])\n",
        "if max_iepuri == np.max (max):\n",
        "    print ('Specia cu cea mai mare populatie este: Iepuri')\n",
        "elif max_lincsi == np.max (max):\n",
        "    print ('Specia cu cea mai mare populatie este: Lincsi')\n",
        "else:\n",
        "    print ('Specia cu cea mai mare populatie este: Morcovi')"
      ],
      "metadata": {
        "colab": {
          "base_uri": "https://localhost:8080/"
        },
        "id": "zhjTYbyVr-Oj",
        "outputId": "af20b93d-a23e-4398-d15f-447d68e6767c"
      },
      "execution_count": 47,
      "outputs": [
        {
          "output_type": "stream",
          "name": "stdout",
          "text": [
            "77400\n",
            "59400\n",
            "48300\n",
            "Specia cu cea mai mare populatie este: Iepuri\n"
          ]
        }
      ]
    },
    {
      "cell_type": "markdown",
      "source": [
        "c)  In ce ani, orice populație este mai mare de 50 000? (np.any)"
      ],
      "metadata": {
        "id": "Huqf0XPKysDt"
      }
    },
    {
      "cell_type": "code",
      "source": [
        "overPopulationArray = np.any (data.T > 50000, axis = 0)\n",
        "result = [x for x, y in zip(data.T[0], overPopulationArray) if y == True]\n",
        "print(result)"
      ],
      "metadata": {
        "colab": {
          "base_uri": "https://localhost:8080/"
        },
        "id": "fhkXOsjdywTr",
        "outputId": "d0e6fc4a-f3cc-4620-8838-f3cf6e2f3469"
      },
      "execution_count": 73,
      "outputs": [
        {
          "output_type": "stream",
          "name": "stdout",
          "text": [
            "[1902, 1903, 1904, 1912, 1913, 1914, 1915]\n"
          ]
        }
      ]
    },
    {
      "cell_type": "markdown",
      "source": [
        "d) Primii 2 ani pentru fiecare specie în care au avut cele mai mici populații (argsort)"
      ],
      "metadata": {
        "id": "d7MZoGKYgh7U"
      }
    },
    {
      "cell_type": "code",
      "source": [
        "iepuriShort = data.T[0][np.argsort(data.T[1])][:2]\n",
        "print(\"Pt iepuri, cele mai scazute valori sunt:\", iepuriShort )\n",
        "\n",
        "lincsiShort = data.T[0][np.argsort(data.T[2])][:2]\n",
        "print(\"Pt lincsi, cele mai scazute valori sunt:\", lincsiShort )\n",
        "\n",
        "morcoviShort = data.T[0][np.argsort(data.T[3])][:2]\n",
        "print(\"Pt morcovi, cele mai scazute valori sunt:\", morcoviShort )"
      ],
      "metadata": {
        "colab": {
          "base_uri": "https://localhost:8080/"
        },
        "id": "VaatHobGbgUK",
        "outputId": "67d78274-e587-44a4-ee0b-bce45f9a16df"
      },
      "execution_count": 101,
      "outputs": [
        {
          "output_type": "stream",
          "name": "stdout",
          "text": [
            "Pt iepuri, cele mai scazute valori sunt: [1917 1916]\n",
            "Pt lincsi, cele mai scazute valori sunt: [1900 1901]\n",
            "Pt morcovi, cele mai scazute valori sunt: [1916 1903]\n"
          ]
        }
      ]
    },
    {
      "cell_type": "markdown",
      "source": [
        "e) Realizati un grafic de comparație a populației de iepuri și lincși. Verificați corelația. (np.gradient, np.corrcoef)"
      ],
      "metadata": {
        "id": "i670605rgs6R"
      }
    },
    {
      "cell_type": "code",
      "source": [
        "import matplotlib.pyplot as plt\n",
        "\n",
        "plt.axes([0.2, 0.1, 0.5, 0.8]) \n",
        "plt.plot(an, iepure, an, linx) \n",
        "plt.legend(('Iepure', 'Linx'), loc=(1.05, 0.5))\n",
        "\n",
        "plt.show()\n",
        "\n",
        "x = np.gradient(data.T[1])\n",
        "y = np.gradient(data.T[2])\n",
        "\n",
        "R = np.corrcoef(x, y, rowvar=False)\n",
        "R\n"
      ],
      "metadata": {
        "colab": {
          "base_uri": "https://localhost:8080/",
          "height": 314
        },
        "id": "9ZvIUebygzCd",
        "outputId": "fa421fe5-e0e0-48d9-96cb-28a32e7f79df"
      },
      "execution_count": 124,
      "outputs": [
        {
          "output_type": "display_data",
          "data": {
            "text/plain": [
              "<Figure size 432x288 with 1 Axes>"
            ],
            "image/png": "[encoded data removed]"
          },
          "metadata": {
            "needs_background": "light"
          }
        },
        {
          "output_type": "execute_result",
          "data": {
            "text/plain": [
              "array([[ 1.        , -0.05136253],\n",
              "       [-0.05136253,  1.        ]])"
            ]
          },
          "metadata": {},
          "execution_count": 124
        }
      ]
    }
  ]
}